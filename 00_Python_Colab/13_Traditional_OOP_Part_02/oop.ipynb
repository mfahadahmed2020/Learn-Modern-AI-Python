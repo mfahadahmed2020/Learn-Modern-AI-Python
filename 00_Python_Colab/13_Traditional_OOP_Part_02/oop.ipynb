{
 "cells": [
  {
   "cell_type": "code",
   "execution_count": 11,
   "id": "002af584",
   "metadata": {},
   "outputs": [
    {
     "name": "stdout",
     "output_type": "stream",
     "text": [
      "Brand: Toyota, Color: Red\n",
      "Brand: Honda, Color: Blue\n"
     ]
    }
   ],
   "source": [
    "class Car:\n",
    "    def __init__(self, brand,color):\n",
    "        self.brand = brand\n",
    "        self.color = color\n",
    "    \n",
    "    def display_info(self):\n",
    "        print(f\"Brand: {self.brand}, Color: {self.color}\")\n",
    "        \n",
    "car1 = Car(\"Toyota\", \"Red\")\n",
    "car2 = Car(\"Honda\", \"Blue\")\n",
    "\n",
    "car1.display_info()\n",
    "car2.display_info()"
   ]
  },
  {
   "cell_type": "code",
   "execution_count": 14,
   "id": "5aebc9c0",
   "metadata": {},
   "outputs": [
    {
     "name": "stdout",
     "output_type": "stream",
     "text": [
      "Brand: Toyota, Color: Red\n"
     ]
    }
   ],
   "source": [
    "class car():\n",
    "    def __init__(self, brand, color):\n",
    "        self.car_brand = brand\n",
    "        self.car_color = color\n",
    "    def display_info(self):\n",
    "        print(f\"Car brand name = {self.car_brand} \\n Car Color = {self.car_color}\")\n",
    "        \n",
    "car1 = Car(\"Toyota\", \"Red\")\n",
    "car1.display_info()"
   ]
  },
  {
   "cell_type": "code",
   "execution_count": 24,
   "id": "c1b82b43",
   "metadata": {},
   "outputs": [],
   "source": [
    "from secrets import choice\n",
    "\n",
    "\n",
    "class Calculator():\n",
    "    def __init__(self):\n",
    "        self.num1 = 0\n",
    "        self.num2 = 0\n",
    "        self.result = None\n",
    "    def get_input(self):\n",
    "        try:\n",
    "            self.num1 = int(input(\"Enter First Number: \"))\n",
    "            self.num2 = int(input(\"Enter Second Number: \"))\n",
    "        except ValueError:\n",
    "            print(\"Please Enter A Number Value.\")\n",
    "            self.get_input()\n",
    "    def add(self):\n",
    "        self.result = self.num1 + self.num2\n",
    "    def sub(self):\n",
    "        self.result = self.num1 - self.num2\n",
    "    def multiply(self):\n",
    "        self.result = self.num1 * self.num2\n",
    "    def divide(self):\n",
    "        if self.num2 == 0:\n",
    "            self.result = \"Zero Division Not Allowed\"\n",
    "        else:\n",
    "            self.result = self.num1 / self.num2\n",
    "    def show_result(self):\n",
    "        print(f\"The Result Of The Calculation is  {self.result}\")\n",
    "\n",
    "    def menu(self):\n",
    "        \"\"\"Display The Menu And Perform Operation\"\"\"\n",
    "        print(\"\\nSelect The Operation:\")\n",
    "        print(\"1. Add\")\n",
    "        print(\"2. Subtract\")\n",
    "        print(\"3. Multiply\")\n",
    "        print(\"4. Divide\")\n",
    "        choice = input(\"Enter Your Choice (1/2/3/4): \")  # noqa: F841\n",
    "\n",
    "    "
   ]
  },
  {
   "cell_type": "code",
   "execution_count": 22,
   "id": "fcd67c6b",
   "metadata": {},
   "outputs": [
    {
     "name": "stdout",
     "output_type": "stream",
     "text": [
      "\n",
      "Select The Operation:\n",
      "1. Add\n",
      "2. Subtract\n",
      "3. Multiply\n",
      "4. Divide\n"
     ]
    }
   ],
   "source": [
    "def menu(self):\n",
    "    \n",
    "        if choice == \"1\":\n",
    "            self.add()\n",
    "        elif choice == \"2\":\n",
    "            self.sub()\n",
    "        elif choice == \"3\":\n",
    "            self.multiply()\n",
    "        elif choice == \"4\":\n",
    "            self.divide()\n",
    "        else:\n",
    "            print(\"Invalid Choice Please Try Again!\")\n",
    "            self.menu()\n",
    "\n",
    "        self.show_result()\n",
    "    \n",
    "res = Calculator()\n",
    "res.get_input()\n",
    "res.menu()"
   ]
  }
 ],
 "metadata": {
  "kernelspec": {
   "display_name": "Python 3",
   "language": "python",
   "name": "python3"
  },
  "language_info": {
   "codemirror_mode": {
    "name": "ipython",
    "version": 3
   },
   "file_extension": ".py",
   "mimetype": "text/x-python",
   "name": "python",
   "nbconvert_exporter": "python",
   "pygments_lexer": "ipython3",
   "version": "3.13.2"
  }
 },
 "nbformat": 4,
 "nbformat_minor": 5
}
