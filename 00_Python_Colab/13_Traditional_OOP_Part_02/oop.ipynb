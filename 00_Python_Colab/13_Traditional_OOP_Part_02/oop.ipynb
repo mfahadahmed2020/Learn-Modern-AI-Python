{
 "cells": [
  {
   "cell_type": "markdown",
   "id": "ca067fda",
   "metadata": {},
   "source": [
    " *1.  # Encapsulation\n",
    "\n",
    "**  Hiding The Secret Identity Of Ali Imran's Character **\n",
    "    **  علی عمران کے کردار کی خفیہ شناخت چھپانا **"
   ]
  },
  {
   "cell_type": "code",
   "execution_count": 10,
   "id": "febbe7e5",
   "metadata": {},
   "outputs": [],
   "source": [
    "class Novel_Character:\n",
    "    def __init__(self, real_name, code_name):\n",
    "        self.__real_name = real_name \n",
    "        self.__code_name = code_name # Private Attribute\n",
    "    \n",
    "    def reveal_identity(self):\n",
    "        return f\"Code Name: {self.__code_name}\"\n",
    "    \n",
    "    def get_real_name(self, is_authorized=False):\n",
    "        if is_authorized:\n",
    "            return f\"Real Name: {self.__real_name}\"\n",
    "        else:\n",
    "            return \"Access Denied! X2 Identity is Private.\"\n",
    "        print(\"Real Name is Public!\")\n",
    "        print(\"Code Name is Private!\") "
   ]
  },
  {
   "cell_type": "markdown",
   "id": "6a9e4c31",
   "metadata": {},
   "source": [
    "*2. # Abstraction\n",
    "\n",
    "** Showing Only The Essentials (WithOut Any Hidden Details)\n",
    "\n",
    "**   صرف ضروری چیزیں دکھانا (بغیرکسی خفیہ تفصیل کے)  **"
   ]
  },
  {
   "cell_type": "code",
   "execution_count": null,
   "id": "741cea4c",
   "metadata": {},
   "outputs": [],
   "source": [
    "from abc import ABC, abstractmethod\n",
    "\n",
    "class Secret_Service(ABC):\n",
    "    @abstractmethod\n",
    "    def mission_details(self):\n",
    "        pass\n",
    "    class X2_Mission(Secret_Service):\n",
    "        def x2_mission_details(self):\n",
    "            return \"Top Secret: Eliminate Black Thunder Network!\"\n",
    "        \n",
    "x2 = X2_Mission()\n",
    "print(x2.mission_details())"
   ]
  }
 ],
 "metadata": {
  "kernelspec": {
   "display_name": "Python 3",
   "language": "python",
   "name": "python3"
  },
  "language_info": {
   "codemirror_mode": {
    "name": "ipython",
    "version": 3
   },
   "file_extension": ".py",
   "mimetype": "text/x-python",
   "name": "python",
   "nbconvert_exporter": "python",
   "pygments_lexer": "ipython3",
   "version": "3.13.2"
  }
 },
 "nbformat": 4,
 "nbformat_minor": 5
}
