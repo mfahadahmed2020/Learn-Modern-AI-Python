{
 "cells": [
  {
   "cell_type": "markdown",
   "metadata": {},
   "source": [
    "Project 4 Assignments\n",
    "\n",
    "Create a Github repository and do the following assignments:\n",
    "\n",
    "Assignments 00 to 05 https://github.com/panaversity/learn-modern-ai-python/tree/main/PROJECTS/homework_projects\n",
    "\n",
    "Assignments 01 https://github.com/panaversity/learn-modern-ai-python/tree/main/PROJECTS/online_class_projects\n",
    "\n",
    "Assignments 1 to 6 https://github.com/panaversity/learn-modern-ai-python/blob/main/PROJECTS/projects_to_be_submitted_by_students/readme.md\n",
    "\n",
    "Once you are done submit this form ASAP:\n",
    "\n",
    "https://forms.gle/tS7C3sr55tUZ36GY8\n",
    "\n",
    "Good luck! 🚀"
   ]
  }
 ],
 "metadata": {
  "language_info": {
   "name": "python"
  }
 },
 "nbformat": 4,
 "nbformat_minor": 2
}
