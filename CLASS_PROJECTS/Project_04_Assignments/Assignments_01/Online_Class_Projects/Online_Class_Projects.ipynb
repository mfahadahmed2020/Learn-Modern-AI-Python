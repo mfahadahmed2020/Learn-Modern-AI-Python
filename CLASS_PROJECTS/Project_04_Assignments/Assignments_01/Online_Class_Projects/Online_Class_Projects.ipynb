{
 "cells": [
  {
   "cell_type": "markdown",
   "metadata": {},
   "source": [
    "Online Class Projects\n",
    "\n",
    "Online AI-101 Project Classes every Tuesday 8:00 pm\n",
    "\n",
    "Instructors: Hamza and Najam\n",
    "\n",
    "The Zoom Link for the online classes: https://us06web.zoom.us/j/85338730622?pwd=KBNfeMPBhDTN7GMi7lH9K5UN6APAt9.1\n",
    "\n",
    "You can also watch on YouTube if the Zoom class is full also recoded videos: https://www.youtube.com/@panaverse\n",
    "\n",
    "All AI-101 students also take this free course: https://www.deeplearning.ai/short-courses/ai-python-for-beginners/\n",
    "\n",
    "Essential Projects to be discussed/completed in Online Classes.\n",
    "\n",
    "Check directory:\n",
    "\n",
    "01_basics\n",
    "\n",
    "02_intermediate"
   ]
  }
 ],
 "metadata": {
  "language_info": {
   "name": "python"
  }
 },
 "nbformat": 4,
 "nbformat_minor": 2
}
