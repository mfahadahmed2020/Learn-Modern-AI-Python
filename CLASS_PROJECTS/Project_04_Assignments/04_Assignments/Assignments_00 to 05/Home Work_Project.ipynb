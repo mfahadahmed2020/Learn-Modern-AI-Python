{
 "cells": [
  {
   "cell_type": "markdown",
   "metadata": {},
   "source": [
    "Python Homework Projects\n",
    "\n",
    "Homework python projects to Master your skillset. Must be practiced by all students in homework, instructors may also cover some of them in onsite classes.\n",
    "Google Colab\n",
    "\n",
    "Google Colab will be used by students to complete all assignments and projects\n",
    "\n",
    "https://colab.research.google.com/\n",
    "\n",
    "We will use the Colab code generation capabilities and also it's ability to explain code."
   ]
  }
 ],
 "metadata": {
  "language_info": {
   "name": "python"
  }
 },
 "nbformat": 4,
 "nbformat_minor": 2
}
