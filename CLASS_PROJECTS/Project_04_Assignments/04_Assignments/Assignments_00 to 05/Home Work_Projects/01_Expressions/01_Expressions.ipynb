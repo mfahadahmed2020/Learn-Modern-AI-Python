{
 "cells": [
  {
   "cell_type": "markdown",
   "metadata": {},
   "source": [
    "01_Dicesimulator =\n",
    "app.py\n",
    "\n",
    "Problem Statement\n",
    "\n",
    "Simulate rolling two dice, three times. Prints the results of each die roll. This program is used to show how variable scope works.\n",
    "Starter Code\n",
    "\n",
    "def main():\n",
    "    print(\"Delete this line and write your code here! :)\")\n",
    "\n",
    "\n",
    "# This provided line is required at the end of\n",
    "# Python file to call the main() function.\n",
    "if __name__ == '__main__':\n",
    "    main()"
   ]
  },
  {
   "cell_type": "code",
   "execution_count": 1,
   "metadata": {},
   "outputs": [
    {
     "name": "stdout",
     "output_type": "stream",
     "text": [
      "die1 in main() starts as: 10\n",
      "Total of two dice: 11\n",
      "Total of two dice: 6\n",
      "Total of two dice: 6\n",
      "die1 in main() is: 10\n"
     ]
    }
   ],
   "source": [
    "\"\"\"\n",
    "Program: dicesimulator\n",
    "----------------------\n",
    "Simulate rolling two dice, three times.  Prints\n",
    "the results of each die roll.  This program is used\n",
    "to show how variable scope works.\n",
    "\"\"\"\n",
    "\n",
    "# Import the random library which lets us simulate random things like dice!\n",
    "import random\n",
    "\n",
    "# Number of sides on each die to roll\n",
    "NUM_SIDES = 6\n",
    "\n",
    "def roll_dice():\n",
    "    \"\"\"\n",
    "    Simulates rolling two dice and prints their total\n",
    "    \"\"\"\n",
    "    die1: int = random.randint(1, NUM_SIDES)\n",
    "    die2: int = random.randint(1, NUM_SIDES)\n",
    "    total: int = die1 + die2\n",
    "    print(\"Total of two dice:\", total)\n",
    "\n",
    "def main():\n",
    "    die1: int = 10\n",
    "    print(\"die1 in main() starts as: \" + str(die1))\n",
    "    roll_dice()\n",
    "    roll_dice()\n",
    "    roll_dice()\n",
    "    print(\"die1 in main() is: \" + str(die1))\n",
    "\n",
    "# This provided line is required at the end of a Python file\n",
    "# to call the main() function.\n",
    "if __name__ == '__main__':\n",
    "    main()"
   ]
  },
  {
   "cell_type": "markdown",
   "metadata": {},
   "source": [
    "02_Kilos of Mass: e=mc2 =\n",
    "mass.py\n",
    "\n",
    "Problem Statement\n",
    "\n",
    "Write a program that continually reads in mass from the user and then outputs the equivalent energy using Einstein's mass-energy equivalence formula (E stands for energy, m stands for mass, and C is the speed of light:\n",
    "\n",
    "E = m * c**2\n",
    "\n",
    "Almost 100 years ago, Albert Einstein famously discovered that mass and energy are interchangeable and are related by the above equation. You should ask the user for mass (m) in kilograms and use a constant value for the speed of light -- C = 299792458 m/s.\n",
    "\n",
    "Here's a sample run of the program (user input is in bold italics):\n",
    "\n",
    "Enter kilos of mass: 100\n",
    "\n",
    "e = m * C^2...\n",
    "\n",
    "m = 100.0 kg\n",
    "\n",
    "C = 299792458 m/s\n",
    "\n",
    "8.987551787368176e+18 joules of energy!\n",
    "Starter Code\n",
    "\n",
    "def main():\n",
    "    print(\"Delete this line and write your code here! :)\")\n",
    "\n",
    "\n",
    "# This provided line is required at the end of\n",
    "# Python file to call the main() function.\n",
    "if __name__ == '__main__':\n",
    "    main()"
   ]
  },
  {
   "cell_type": "code",
   "execution_count": 2,
   "metadata": {},
   "outputs": [
    {
     "name": "stdout",
     "output_type": "stream",
     "text": [
      "e = m * C^2...\n",
      "m = 33.0 kg\n",
      "C = 299792458 m/s\n",
      "2.965892089831498e+18 joules of energy!\n"
     ]
    }
   ],
   "source": [
    "C: int = 299792458  # The speed of light in m/s\n",
    "\n",
    "def main():\n",
    "    mass_in_kg: float = float(input(\"Enter kilos of mass: \"))\n",
    "\n",
    "    # Calculate energy\n",
    "    # equivalently energy = mass * (C ** 2)\n",
    "    # using the ** operator to raise C to the power of 2\n",
    "    energy_in_joules: float = mass_in_kg * (C ** 2)\n",
    "\n",
    "    # Display work to the user\n",
    "    print(\"e = m * C^2...\")\n",
    "    print(\"m = \" + str(mass_in_kg) + \" kg\")\n",
    "    print(\"C = \" + str(C) + \" m/s\")\n",
    "    \n",
    "    print(str(energy_in_joules) + \" joules of energy!\")\n",
    "\n",
    "\n",
    "# There is no need to edit code beyond this point\n",
    "\n",
    "if __name__ == '__main__':\n",
    "    main()"
   ]
  },
  {
   "cell_type": "markdown",
   "metadata": {},
   "source": [
    "03_Feet_To_Inches =\n",
    "feet.py\n",
    "\n",
    "Problem Statement\n",
    "\n",
    "Converts feet to inches. Feet is an American unit of measurement. There are 12 inches per foot. Foot is the singular, and feet is the plural.\n",
    "Starter Code\n",
    "\n",
    "def main():\n",
    "    print(\"Delete this line and write your code here! :)\")\n",
    "\n",
    "\n",
    "# This provided line is required at the end of\n",
    "# Python file to call the main() function.\n",
    "if __name__ == '__main__':\n",
    "    main()"
   ]
  },
  {
   "cell_type": "code",
   "execution_count": 7,
   "metadata": {},
   "outputs": [
    {
     "name": "stdout",
     "output_type": "stream",
     "text": [
      "That is 61.32000000000001 inches!\n"
     ]
    }
   ],
   "source": [
    "\n",
    "\"\"\"\n",
    "An example program with constants\n",
    "\"\"\"\n",
    "\n",
    "INCHES_IN_FOOT: int = 12  # Conversion factor. There are 12 inches for 1 foot.\n",
    "\n",
    "def main():\n",
    "    feet: float = float(input(\"Enter number of feet: \"))  # Get the number of feet, make sure to cast it to a float!\n",
    "    inches: float = feet * INCHES_IN_FOOT  # Perform the conversion\n",
    "    print(\"That is\", inches, \"inches!\")\n",
    "    \n",
    "    \n",
    "# This provided line is required at the end of a Python file\n",
    "# to call the main() function.\n",
    "if __name__ == '__main__':\n",
    "    main()"
   ]
  },
  {
   "cell_type": "markdown",
   "metadata": {},
   "source": [
    "04_PythaGorean_Theorem =\n",
    "theorem.py\n",
    "\n",
    "ziaukhan\n",
    "Problem Statement\n",
    "Write a program that asks the user for the lengths of the two perpendicular sides of a right triangle and outputs the length of the third side (the hypotenuse) using the Pythagorean theorem!\n",
    "\n",
    "The Pythagorean theorem, named after the ancient Greek thinker, Pythagoras, is a fundamental relation in geometry. It states that in a right triangle, the square of the hypotenuse is equal to the sum of the square of the other two sides.\n",
    "\n",
    "For instance, let's consider a right triangle ABC, with the right angle located at C. According to the Pythagorean theorem:\n",
    "\n",
    "BC ** 2 = AB ** 2 + AC ** 2\n",
    "\n",
    "Your code should read in the lengths of the sides AB and AC, and that outputs the length of the hypotenuse (BC). You will probably find math.sqrt() to be useful.\n",
    "\n",
    "Here's a sample run of the program (user input is in bold italics):\n",
    "\n",
    "Enter the length of AB: 3\n",
    "\n",
    "Enter the length of AC: 4\n",
    "\n",
    "The length of BC (the hypotenuse) is: 5.0\n",
    "\n",
    "Starter Code\n",
    "\n",
    "def main():\n",
    "    print(\"Delete this line and write your code here! :)\")\n",
    "\n",
    "\n",
    "# This provided line is required at the end of\n",
    "# Python file to call the main() function.\n",
    "if __name__ == '__main__':\n",
    "    main()\n",
    "\n",
    "Result\n",
    "\n",
    "Modern AI Python/CLASS_PROJECTS/Project_04_Assignments/04_Assignments/Assignments_00 to 05/Home Work_Projects/01_Expressions/theorem.py\"\n",
    "Enter the length of AB: 33\n",
    "Enter the length of AC: 33\n",
    "The length of BC (the hypotenuse) is: 46.66904755831214"
   ]
  },
  {
   "cell_type": "markdown",
   "metadata": {},
   "source": [
    "05_Remainder_Division =\n",
    "remainder.py\n",
    "\n",
    "Problem Statement\n",
    "\n",
    "Ask the user for two numbers, one at a time, and then print the result of dividing the first number by the second and also the remainder of the division.\n",
    "\n",
    "Here's a sample run of the program (user input is in bold italics):\n",
    "\n",
    "Please enter an integer to be divided: 5\n",
    "\n",
    "Please enter an integer to divide by: 3\n",
    "\n",
    "The result of this division is 1 with a remainder of 2\n",
    "\n",
    "Starter Code\n",
    "\n",
    "def main():\n",
    "    print(\"Delete this line and write your code here! :)\")\n",
    "\n",
    "\n",
    "# This provided line is required at the end of\n",
    "# Python file to call the main() function.\n",
    "if __name\n",
    "\n",
    "__ == '__main__':\n",
    "    main()"
   ]
  },
  {
   "cell_type": "code",
   "execution_count": 12,
   "metadata": {},
   "outputs": [
    {
     "name": "stdout",
     "output_type": "stream",
     "text": [
      "The result of this division is 0 with a remainder of 5\n"
     ]
    }
   ],
   "source": [
    "def main():\n",
    "    # Get the numbers we want to divide\n",
    "    dividend: int = int(input(\"Please enter an integer to be divided: \"))\n",
    "    divisor: int = int(input(\"Please enter an integer to divide by: \"))\n",
    "\n",
    "    quotient: int = dividend // divisor  # Divide with no remainder/decimals (integer division)\n",
    "    remainder: int = dividend % divisor  # Get the remainder of the division (modulo)\n",
    "    \n",
    "    print(\"The result of this division is \" + str(quotient) + \" with a remainder of \" + str(remainder))\n",
    "\n",
    "\n",
    "# There is no need to edit code beyond this point\n",
    "\n",
    "if __name__ == '__main__':\n",
    "    main()"
   ]
  },
  {
   "cell_type": "markdown",
   "metadata": {},
   "source": [
    "06_RollDice =\n",
    "rolldice.py\n",
    "\n",
    "Problem Statement\n",
    "\n",
    "Simulate rolling two dice, and prints results of each roll as well as the total.\n",
    "Starter Code\n",
    "\n",
    "def main():\n",
    "    print(\"Delete this line and write your code here! :)\")\n",
    "\n",
    "\n",
    "# This provided line is required at the end of\n",
    "# Python file to call the main() function.\n",
    "if __name__ == '__main__':\n",
    "    main()"
   ]
  },
  {
   "cell_type": "code",
   "execution_count": 13,
   "metadata": {},
   "outputs": [
    {
     "name": "stdout",
     "output_type": "stream",
     "text": [
      "Dice have 6 sides each.\n",
      "First die: 2\n",
      "Second die: 6\n",
      "Total of two dice: 8\n"
     ]
    }
   ],
   "source": [
    "\"\"\"\n",
    "Simulate rolling two dice, and prints results of each\n",
    "roll as well as the total.\n",
    "\"\"\"\n",
    "# Import the random library which lets us simulate random things like dice!\n",
    "import random\n",
    "\n",
    "# Number of sides on each die to roll\n",
    "NUM_SIDES: int = 6\n",
    "\n",
    "def main():\n",
    "    # Setting a seed is useful for debugging (uncomment the line below to do so!)\n",
    "    # random.seed(1)\n",
    "    \n",
    "    # Roll die\n",
    "    die1: int = random.randint(1, NUM_SIDES)\n",
    "    die2: int = random.randint(1, NUM_SIDES)\n",
    "    \n",
    "    # Get their total\n",
    "    total: int = die1 + die2\n",
    "    \n",
    "    # Print out the results\n",
    "    print(\"Dice have\", NUM_SIDES, \"sides each.\")\n",
    "    print(\"First die:\", die1)\n",
    "    print(\"Second die:\", die2)\n",
    "    print(\"Total of two dice:\", total)\n",
    "\n",
    "\n",
    "# This provided line is required at the end of a Python file\n",
    "# to call the main() function.\n",
    "if __name__ == '__main__':\n",
    "    main()"
   ]
  },
  {
   "cell_type": "markdown",
   "metadata": {},
   "source": [
    "06_Seconds_IN_Year =\n",
    "year.py\n",
    "\n",
    "Problem Statement\n",
    "\n",
    "Use Python to calculate the number of seconds in a year, and tell the user what the result is in a nice print statement that looks like this (of course the value 5 should be the calculated number instead):\n",
    "\n",
    "There are 5 seconds in a year!\n",
    "\n",
    "You should use constants for this exercise -- there are 365 days in a year, 24 hours in a day, 60 minutes in an hour, and 60 seconds per minute.\n",
    "\n",
    "Starter Code\n",
    "\n",
    "def main():\n",
    "    print(\"Delete this line and write your code here! :)\")\n",
    "\n",
    "\n",
    "# This provided line is required at the end of\n",
    "# Python file to call the main() function.\n",
    "if __name__ == '__main__':\n",
    "    main()"
   ]
  },
  {
   "cell_type": "code",
   "execution_count": 14,
   "metadata": {},
   "outputs": [
    {
     "name": "stdout",
     "output_type": "stream",
     "text": [
      "There are 31536000 seconds in a year!\n"
     ]
    }
   ],
   "source": [
    "# Useful constants to help make the math easier and cleaner!\n",
    "DAYS_PER_YEAR: int = 365\n",
    "HOURS_PER_DAY: int = 24\n",
    "MIN_PER_HOUR: int = 60\n",
    "SEC_PER_MIN: int = 60\n",
    "\n",
    "def main():\n",
    "    # We can get the number of seconds per year by multiplying the handy constants above!\n",
    "    print(\"There are \" + str(DAYS_PER_YEAR * HOURS_PER_DAY * MIN_PER_HOUR * SEC_PER_MIN) + \" seconds in a year!\")\n",
    "\n",
    "\n",
    "# There is no need to edit code beyond this point\n",
    "\n",
    "if __name__ == '__main__':\n",
    "    main()"
   ]
  },
  {
   "cell_type": "markdown",
   "metadata": {},
   "source": [
    "07_Tiny_Mad_lib =\n",
    "tiny.py\n",
    "\n",
    "Problem Statement\n",
    "\n",
    "Write a program which prompts the user for an adjective, then a noun, then a verb, and then prints a fun sentence with those words!\n",
    "\n",
    "Mad Libs is a word game where players are prompted for one word at a time, and the words are eventually filled into the blanks of a word template to make an entertaining story! We've provided you with the beginning of a sentence (the SENTENCE_START constant) which will end in a user-inputted adjective, noun, and then verb.\n",
    "\n",
    "Here's a sample run (user input is in bold italics):\n",
    "\n",
    "Please type an adjective and press enter. tiny\n",
    "\n",
    "Please type a noun and press enter. plant\n",
    "\n",
    "Please type a verb and press enter. fly\n",
    "\n",
    "Code in Place is fun. I learned to program and used Python to make my tiny plant fly!\n",
    "\n",
    "Starter Code\n",
    "\n",
    "def main():\n",
    "    print(\"Delete this line and write your code here! :)\")\n",
    "\n",
    "\n",
    "# This provided line is required at the end of\n",
    "# Python file to call the main() function.\n",
    "if __name__ == '__main__':\n",
    "    main()"
   ]
  },
  {
   "cell_type": "code",
   "execution_count": 18,
   "metadata": {},
   "outputs": [
    {
     "name": "stdout",
     "output_type": "stream",
     "text": [
      "Panaversity is fun. I learned to program and used Python to make my giaic & piaic!\n"
     ]
    }
   ],
   "source": [
    "SENTENCE_START: str = \"Panaversity is fun. I learned to program and used Python to make my \" # adjective noun verb\n",
    "\n",
    "def main():\n",
    "    # Get the three inputs from the user to make the adlib\n",
    "    adjective: str = input(\"Please type an adjective and press enter. \")\n",
    "    noun: str = input(\"Please type a noun and press enter. \")\n",
    "    verb: str = input(\"Please type a verb and press enter. \")\n",
    "\n",
    "    # Join the inputs together with the sentence starter\n",
    "    print(SENTENCE_START + adjective + \" \" + noun + \" \" + verb + \"!\")\n",
    "\n",
    "\n",
    "# There is no need to edit code beyond this point\n",
    "\n",
    "if __name__ == '__main__':\n",
    "    main()"
   ]
  }
 ],
 "metadata": {
  "kernelspec": {
   "display_name": "Python 3",
   "language": "python",
   "name": "python3"
  },
  "language_info": {
   "codemirror_mode": {
    "name": "ipython",
    "version": 3
   },
   "file_extension": ".py",
   "mimetype": "text/x-python",
   "name": "python",
   "nbconvert_exporter": "python",
   "pygments_lexer": "ipython3",
   "version": "3.13.2"
  }
 },
 "nbformat": 4,
 "nbformat_minor": 2
}
