{
 "cells": [
  {
   "cell_type": "markdown",
   "metadata": {},
   "source": [
    "01_Add_Many_Number.py\n",
    "\n",
    "Problem Statement\n",
    "\n",
    "Write a function that takes a list of numbers and returns the sum of those numbers.\n",
    "\n",
    "Starter Code\n",
    "\n",
    "def main():\n",
    "    print(\"Delete this line and write your code here! :)\")\n",
    "\n",
    "\n",
    "# This provided line is required at the end of\n",
    "# Python file to call the main() function.\n",
    "if __name__ == '__main__':\n",
    "    main()"
   ]
  },
  {
   "cell_type": "code",
   "execution_count": 2,
   "metadata": {},
   "outputs": [
    {
     "name": "stdout",
     "output_type": "stream",
     "text": [
      "15\n"
     ]
    }
   ],
   "source": [
    "def add_many_numbers(numbers)-> int:\n",
    "    \"\"\"\n",
    "    Takes in a list of numbers and returns the sum of those numbers.\n",
    "    \"\"\"\n",
    "\n",
    "    total_so_far: int = 0\n",
    "    for number in numbers:\n",
    "        total_so_far += number\n",
    "\n",
    "    return total_so_far\n",
    "\n",
    "# There is no need to edit code beyond this point\n",
    "\n",
    "def main():\n",
    "    numbers: list[int] = [1, 2, 3, 4, 5]  # Make a list of numbers\n",
    "    sum_of_numbers: int = add_many_numbers(numbers)  # Find the sum of the list\n",
    "    print(sum_of_numbers)  # Print out the sum above\n",
    "    \n",
    "\n",
    "if __name__ == '__main__':\n",
    "    main()"
   ]
  },
  {
   "cell_type": "markdown",
   "metadata": {},
   "source": [
    "02_double_list.py\n",
    "\n",
    "Problem Statement\n",
    "\n",
    "Write a program that doubles each element in a list of numbers. For example, if you start with this list:\n",
    "\n",
    "numbers = [1, 2, 3, 4]\n",
    "\n",
    "You should end with this list:\n",
    "\n",
    "numbers = [2, 4, 6, 8]\n",
    "\n",
    "Starter Code\n",
    "\n",
    "def main():\n",
    "    print(\"Delete this line and write your code here! :)\")\n",
    "\n",
    "\n",
    "# This provided line is required at the end of\n",
    "# Python file to call the main() function.\n",
    "if __name__ == '__main__':\n",
    "    main()"
   ]
  },
  {
   "cell_type": "code",
   "execution_count": 3,
   "metadata": {},
   "outputs": [
    {
     "name": "stdout",
     "output_type": "stream",
     "text": [
      "[2, 4, 6, 8]\n"
     ]
    }
   ],
   "source": [
    "def main():\n",
    "    numbers: list[int] = [1, 2, 3, 4]  # Creates a list of numbers\n",
    "\n",
    "    for i in range(len(numbers)):  # Loop through the indices of the list\n",
    "        elem_at_index = numbers[i]  # Get the element at index i in the numbers list\n",
    "        numbers[i] = elem_at_index * 2  # Set the element at index i to be equal to the previous element times 2\n",
    "\n",
    "    print(numbers)  # This should print the doubled list\n",
    "\n",
    "\n",
    "# There is no need to edit code beyond this point\n",
    "\n",
    "if __name__ == '__main__':\n",
    "    main()"
   ]
  },
  {
   "cell_type": "markdown",
   "metadata": {},
   "source": [
    "03_Erase_Canvas.py\n",
    "\n",
    "Problem Statement\n",
    "\n",
    "Implement an 'eraser' on a canvas.\n",
    "\n",
    "The canvas consists of a grid of blue 'cells' which are drawn as rectangles on the screen. We then create an eraser rectangle which, when dragged around the canvas, sets all of the rectangles it is in contact with to white.\n",
    "\n",
    "Starter Code\n",
    "\n",
    "def main():\n",
    "    print(\"Delete this line and write your code here! :)\")\n",
    "\n",
    "\n",
    "# This provided line is required at the end of\n",
    "# Python file to call the main() function.\n",
    "if __name__ == '__main__':\n",
    "    main()\n",
    "\n",
    "\"\"\" This program implements an 'eraser' on a canvas.\n",
    "\n",
    "The canvas consists of a grid of blue 'cells' which are drawn as rectangles on the screen. We then create an eraser rectangle which, when dragged around the canvas, sets all of the rectangles it is in contact with to white. \"\"\"\n",
    "\n",
    "Result\n",
    "\n"
   ]
  },
  {
   "cell_type": "markdown",
   "metadata": {},
   "source": [
    "04_Flowing_With_Data_Structures.py\n",
    "\n",
    "Problem Statement\n",
    "\n",
    "In the information flow lesson, we discussed using a variable storing a number as an example of scope. We saw that changes we made to the number inside a function did not stay unless we returned it. This is true for what we call immutable data types which include things like numbers and strings.\n",
    "\n",
    "However, there are also mutable data types where changes stay even if we don't return anything. Some examples of mutable data types are lists and dictionaries. This means that you should be mindful when modifying lists and dictionaries within helper functions since their changes stay whether or not you return them.\n",
    "\n",
    "To see this in action, fill out the add_three_copies(...) function which takes a list and some data and then adds three copies of the data to the list. Don't return anything and see what happens! Compare this process to the x = change(x) example and note the differences.\n",
    "\n",
    "Here is an example run of this program (user input in bold italics):\n",
    "\n",
    "Enter a message to copy: Hello world!\n",
    "\n",
    "List before: []\n",
    "\n",
    "List after: ['Hello world!', 'Hello world!', 'Hello world!']\n",
    "\n",
    "(Note. The concept of immutable/mutable data types is called mutability. Be careful because different programming languages have different rules regarding mutability!)\n",
    "\n",
    "Starter Code\n",
    "\n",
    "def main():\n",
    "    print(\"Delete this line and write your code here! :)\")\n",
    "\n",
    "\n",
    "# This provided line is required at the end of\n",
    "# Python file to call the main() function.\n",
    "if __name__ == '__main__':\n",
    "    main()"
   ]
  },
  {
   "cell_type": "code",
   "execution_count": 3,
   "metadata": {},
   "outputs": [
    {
     "name": "stdout",
     "output_type": "stream",
     "text": [
      "List before: []\n",
      "List after: ['welcome', 'welcome', 'welcome']\n"
     ]
    }
   ],
   "source": [
    "def add_three_copies(my_list, data):\n",
    "    for i in range(3):\n",
    "        my_list.append(data)\n",
    "\n",
    "########## No need to edit code past this point\n",
    "\n",
    "def main():\n",
    "    message = input(\"Enter a message to copy: \")\n",
    "    my_list = []\n",
    "    print(\"List before:\", my_list)\n",
    "    add_three_copies(my_list, message)\n",
    "    print(\"List after:\", my_list)\n",
    "\n",
    "if __name__ == \"__main__\":\n",
    "    main()"
   ]
  },
  {
   "cell_type": "markdown",
   "metadata": {},
   "source": [
    "05_Get_First_Element.py\n",
    "\n",
    "Problem Statement\n",
    "Fill out the function get_first_element(lst) which takes in a list lst as a parameter and prints the first element in the list. The list is guaranteed to be non-empty. We've written some code for you which prompts the user to input the list one element at a time.\n",
    "\n",
    "Starter Code\n",
    "\n",
    "def main():\n",
    "    print(\"Delete this line and write your code here! :)\")\n",
    "\n",
    "\n",
    "# This provided line is required at the end of\n",
    "# Python file to call the main() function.\n",
    "if __name__ == '__main__':\n",
    "    main()"
   ]
  },
  {
   "cell_type": "code",
   "execution_count": 4,
   "metadata": {},
   "outputs": [
    {
     "name": "stdout",
     "output_type": "stream",
     "text": [
      "Time\n"
     ]
    }
   ],
   "source": [
    "\n",
    "def get_first_element(lst):\n",
    "    \"\"\"\n",
    "    Prints the first element of a provided list.\n",
    "    \"\"\"\n",
    "\n",
    "    print(lst[0])\n",
    "\n",
    "# There is no need to edit code beyond this point\n",
    "\n",
    "def get_lst():\n",
    "    \"\"\"\n",
    "    Prompts the user to enter one element of the list at a time and returns the resulting list.\n",
    "    \"\"\"\n",
    "    lst = []\n",
    "    elem: str = input(\"Please enter an element of the list or press enter to stop. \")\n",
    "    while elem != \"\":\n",
    "        lst.append(elem)\n",
    "        elem = input(\"Please enter an element of the list or press enter to stop. \")\n",
    "    return lst\n",
    "\n",
    "def main():\n",
    "    lst = get_lst()\n",
    "    get_first_element(lst)\n",
    "\n",
    "\n",
    "if __name__ == '__main__':\n",
    "    main()"
   ]
  },
  {
   "cell_type": "markdown",
   "metadata": {},
   "source": [
    "06_Get_Last_Element.py\n",
    "\n",
    "Problem Statement\n",
    "Fill out the function get_last_element(lst) which takes in a list lst as a parameter and prints the last element in the list. The list is guaranteed to be non-empty, but there are no guarantees on its length.\n",
    "\n",
    "Starter Code\n",
    "\n",
    "def main():\n",
    "    print(\"Delete this line and write your code here! :)\")\n",
    "\n",
    "\n",
    "# This provided line is required at the end of\n",
    "# Python file to call the main() function.\n",
    "if __name__ == '__main__':\n",
    "    main()"
   ]
  },
  {
   "cell_type": "code",
   "execution_count": 18,
   "metadata": {},
   "outputs": [
    {
     "name": "stdout",
     "output_type": "stream",
     "text": [
      "4\n",
      "3\n",
      "2\n",
      "1\n",
      "5\n"
     ]
    }
   ],
   "source": [
    "# Takes the length of the list and minuses 1 since they are zero-indexed (we start counting at 0)\n",
    "list = [0,1,2,3,4,5]\n",
    "print(list[len(list) - 2])\n",
    "print(list[len(list) - 3])\n",
    "print(list[len(list) - 4])\n",
    "print(list[len(list) - 5])\n",
    "# The line below works too!!\n",
    "print(list[-1])"
   ]
  },
  {
   "cell_type": "markdown",
   "metadata": {},
   "source": [
    "07_Get_List.py\n",
    "\n",
    "Problem Statement\n",
    "\n",
    "Write a program which continuously asks the user to enter values which are added one by one into a list. When the user presses enter without typing anything, print the list.\n",
    "\n",
    "Here's a sample run (user input is in blue):\n",
    "\n",
    "Enter a value: 1 Enter a value: 2 Enter a value: 3 Enter a value: Here's the list: ['1', '2', '3']\n",
    "\n",
    "Starter Code\n",
    "\n",
    "def main():\n",
    "    print(\"Delete this line and write your code here! :)\")\n",
    "\n",
    "\n",
    "# This provided line is required at the end of\n",
    "# Python file to call the main() function.\n",
    "if __name__ == '__main__':\n",
    "    main()"
   ]
  },
  {
   "cell_type": "code",
   "execution_count": 19,
   "metadata": {},
   "outputs": [
    {
     "name": "stdout",
     "output_type": "stream",
     "text": [
      "Here's the list: ['5', '3', '2', '1', '8', '9', '0']\n"
     ]
    }
   ],
   "source": [
    "def main():\n",
    "    lst = []  # Make an empty list to store things in\n",
    "\n",
    "    val = input(\"Enter a value: \")  # Get an initial value\n",
    "    while val:  # While the user input isn't an empty value\n",
    "        lst.append(val) # Add val to list\n",
    "        val = input(\"Enter a value: \")  # Get the next value to add\n",
    "\n",
    "    print(\"Here's the list:\", lst)\n",
    "\n",
    "\n",
    "# There is no need to edit code beyond this point\n",
    "\n",
    "if __name__ == '__main__':\n",
    "    main()"
   ]
  },
  {
   "cell_type": "markdown",
   "metadata": {},
   "source": [
    "08_Shorten.py\n",
    "\n",
    "Problem Statement\n",
    "\n",
    "Fill out the function shorten(lst) which removes elements from the end of lst, which is a list, and prints each item it removes until lst is MAX_LENGTH items long. If lst is already shorter than MAX_LENGTH you should leave it unchanged. We've written a main() function for you which gets a list and passes it into your function once you run the program. For the autograder to pass you will need MAX_LENGTH to be 3, but feel free to change it around to test your program.\n",
    "\n",
    "Starter Code\n",
    "\n",
    "def main():\n",
    "    print(\"Delete this line and write your code here! :)\")\n",
    "\n",
    "\n",
    "# This provided line is required at the end of\n",
    "# Python file to call the main() function.\n",
    "if __name__ == '__main__':\n",
    "    main()"
   ]
  },
  {
   "cell_type": "code",
   "execution_count": 20,
   "metadata": {},
   "outputs": [
    {
     "name": "stdout",
     "output_type": "stream",
     "text": [
      "55\n",
      "66\n",
      "44\n",
      "33\n",
      "22\n",
      "12\n",
      "11\n",
      "5\n",
      "6\n",
      "4\n",
      "0\n"
     ]
    }
   ],
   "source": [
    "MAX_LENGTH : int = 3\n",
    "\n",
    "def shorten(lst):\n",
    "    while len(lst) > MAX_LENGTH:\n",
    "        last_elem = lst.pop()\n",
    "        print(last_elem)\n",
    "\n",
    "# There is no need to edit code beyond this point\n",
    "\n",
    "def get_lst():\n",
    "    \"\"\"\n",
    "    Prompts the user to enter one element of the list at a time and returns the resulting list.\n",
    "    \"\"\"\n",
    "    lst = []\n",
    "    elem = input(\"Please enter an element of the list or press enter to stop. \")\n",
    "    while elem != \"\":\n",
    "        lst.append(elem)\n",
    "        elem = input(\"Please enter an element of the list or press enter to stop. \")\n",
    "    return lst\n",
    "\n",
    "def main():\n",
    "    lst = get_lst()\n",
    "    shorten(lst)\n",
    "\n",
    "\n",
    "if __name__ == '__main__':\n",
    "    main()"
   ]
  }
 ],
 "metadata": {
  "kernelspec": {
   "display_name": ".venv",
   "language": "python",
   "name": "python3"
  },
  "language_info": {
   "codemirror_mode": {
    "name": "ipython",
    "version": 3
   },
   "file_extension": ".py",
   "mimetype": "text/x-python",
   "name": "python",
   "nbconvert_exporter": "python",
   "pygments_lexer": "ipython3",
   "version": "3.12.9"
  }
 },
 "nbformat": 4,
 "nbformat_minor": 2
}
