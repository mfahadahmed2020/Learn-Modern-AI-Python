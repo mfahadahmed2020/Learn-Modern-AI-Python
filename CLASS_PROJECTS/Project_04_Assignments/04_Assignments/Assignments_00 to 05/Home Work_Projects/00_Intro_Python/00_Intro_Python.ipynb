{
 "cells": [
  {
   "cell_type": "markdown",
   "metadata": {},
   "source": [
    "01_Add_Two_Numbers\n",
    "app.py\n",
    "\n",
    "Problem Statement\n",
    "\n",
    "Write a Python program that takes two integer inputs from the user and calculates their sum. The program should perform the following tasks:\n",
    "\n",
    "    Prompt the user to enter the first number.\n",
    "\n",
    "    Read the input and convert it to an integer.\n",
    "\n",
    "    Prompt the user to enter the second number.\n",
    "\n",
    "    Read the input and convert it to an integer.\n",
    "\n",
    "    Calculate the sum of the two numbers.\n",
    "\n",
    "    Print the total sum with an appropriate message.\n",
    "\n",
    "The provided solution demonstrates a working implementation of this problem, where the main() function guides the user through the process of entering two numbers and displays their sum."
   ]
  },
  {
   "cell_type": "markdown",
   "metadata": {},
   "source": [
    "Starter Code\n",
    "\n",
    "def main():\n",
    "    print(\"Delete this line and write your code here! :)\")\n",
    "\n",
    "\n",
    "# This provided line is required at the end of\n",
    "# Python file to call the main() function.\n",
    "if __name__ == '__main__':\n",
    "    main()"
   ]
  },
  {
   "cell_type": "code",
   "execution_count": 1,
   "metadata": {},
   "outputs": [
    {
     "name": "stdout",
     "output_type": "stream",
     "text": [
      "This program adds two numbers.\n",
      "The total is 9.\n"
     ]
    }
   ],
   "source": [
    "\"\"\"\n",
    "Program: add2numbers\n",
    "--------------------\n",
    "Another python program to get some practice with\n",
    "variables.  This program asks the user for two\n",
    "integers and prints their sum.\n",
    "\"\"\"\n",
    "\n",
    "\n",
    "def main():\n",
    "    print(\"This program adds two numbers.\")\n",
    "    num1 : str = input(\"Enter first number: \")\n",
    "    num1 : int = int(num1)\n",
    "    num2  : str = input(\"Enter second number: \")\n",
    "    num2 : int = int(num2)\n",
    "    total : int = num1 + num2\n",
    "    print(\"The total is \" + str(total) + \".\")\n",
    "\n",
    "\n",
    "# This provided line is required at the end of\n",
    "# Python file to call the main() function.\n",
    "if __name__ == '__main__':\n",
    "    main()"
   ]
  },
  {
   "cell_type": "markdown",
   "metadata": {},
   "source": [
    "02_Agreement_Bot\n",
    "main.py\n",
    "\n",
    "Problem Statement\n",
    "\n",
    "Write a program which asks the user what their favorite animal is, and then always responds with \"My favorite animal is also ___!\" (the blank should be filled in with the user-inputted animal, of course).\n",
    "\n",
    "Here's a sample run of the program (user input is in bold italics - note the space between the prompt and the user input!):\n",
    "\n",
    "What's your favorite animal? cow\n",
    "\n",
    "My favorite animal is also cow!\n",
    "\n",
    "Starter Code\n",
    "\n",
    "def main():\n",
    "    print(\"Delete this line and write your code here! :)\")\n",
    "\n",
    "\n",
    "# This provided line is required at the end of\n",
    "# Python file to call the main() function.\n",
    "if __name__ == '__main__':\n",
    "    main()"
   ]
  },
  {
   "cell_type": "code",
   "execution_count": 2,
   "metadata": {},
   "outputs": [
    {
     "name": "stdout",
     "output_type": "stream",
     "text": [
      "Animals! :)\n",
      "My Favourite Animal is Also Cow!\n"
     ]
    }
   ],
   "source": [
    "def main():\n",
    "    print(\"Animals! :)\")\n",
    "    animal = input(\"What is Your Favourite Animal: \")\n",
    "        \n",
    "    # Responding With THe User's Input\n",
    "    print(f\"My Favourite Animal is Also {animal}!\")\n",
    "\n",
    "\n",
    "# This provided line is required at the end of\n",
    "# Python file to call the main() function.\n",
    "if __name__ == '__main__':\n",
    "    main()"
   ]
  },
  {
   "cell_type": "markdown",
   "metadata": {},
   "source": [
    "03_Fahrenheit_To_Celsius\n",
    "index.py\n",
    "\n",
    "Problem Statement\n",
    "\n",
    "Write a program which prompts the user for a temperature in Fahrenheit (this can be a number with decimal places!) and outputs the temperature converted to Celsius.\n",
    "\n",
    "The Celsius scale is widely used to measure temperature, but places still use Fahrenheit. Fahrenheit is another unit for temperature, but the scale is different from Celsius -- for example, 0 degrees Celsius is 32 degrees Fahrenheit!\n",
    "\n",
    "The equation you should use for converting from Fahrenheit to Celsius is the following:\n",
    "\n",
    "degrees_celsius = (degrees_fahrenheit - 32) * 5.0/9.0\n",
    "\n",
    "(Note. The .0 after the 5 and 9 matters in the line above!!!)\n",
    "\n",
    "Here's a sample run of the program (user input is in bold italics):\n",
    "\n",
    "Enter temperature in Fahrenheit: 76\n",
    "\n",
    "Temperature: 76.0F = 24.444444444444443C\n",
    "Starter Code\n",
    "\n",
    "def main():\n",
    "    print(\"Delete this line and write your code here! :)\")\n",
    "\n",
    "\n",
    "# This provided line is required at the end of\n",
    "# Python file to call the main() function.\n",
    "if __name__ == '__main__':\n",
    "    main()"
   ]
  },
  {
   "cell_type": "code",
   "execution_count": 3,
   "metadata": {},
   "outputs": [
    {
     "name": "stdout",
     "output_type": "stream",
     "text": [
      "Temperature in Fahrenheit! :)\n",
      "Temperature: 43.0F = 6.111111111111111C\n"
     ]
    }
   ],
   "source": [
    "def main():\n",
    "    print(\"Temperature in Fahrenheit! :)\")\n",
    "    fahrenheit = float(input(\"Enter Temperature in Fahrenheit: \"))\n",
    "    celcius = (fahrenheit - 32) * 5.0 / 9.0\n",
    "    print(f\"Temperature: {fahrenheit}F = {celcius}C\")\n",
    "\n",
    "\n",
    "# This provided line is required at the end of\n",
    "# Python file to call the main() function.\n",
    "if __name__ == '__main__':\n",
    "    main()"
   ]
  },
  {
   "cell_type": "markdown",
   "metadata": {},
   "source": [
    "04_How_Old_Are_They\n",
    "old.py\n",
    "\n",
    "Problem Statement\n",
    "\n",
    "Write a program to solve this age-related riddle!\n",
    "\n",
    "Anton, Beth, Chen, Drew, and Ethan are all friends. Their ages are as follows:\n",
    "\n",
    "Anton is 21 years old.\n",
    "\n",
    "Beth is 6 years older than Anton.\n",
    "\n",
    "Chen is 20 years older than Beth.\n",
    "\n",
    "Drew is as old as Chen's age plus Anton's age.\n",
    "\n",
    "Ethan is the same age as Chen.\n",
    "\n",
    "Your code should store each person's age to a variable and print their names and ages at the end. The autograder is sensitive to capitalization and punctuation, be careful! Your solution should look like this (the below numbers are made up -- your solution should have the correct values!):\n",
    "\n",
    "Anton is 3\n",
    "\n",
    "Beth is 4\n",
    "\n",
    "Chen is 5\n",
    "\n",
    "Drew is 6\n",
    "\n",
    "Ethan is 7\n",
    "\n",
    "Starter Code\n",
    "\n",
    "def main():\n",
    "    print(\"Delete this line and write your code here! :)\")\n",
    "\n",
    "\n",
    "# This provided line is required at the end of\n",
    "# Python file to call the main() function.\n",
    "if __name__ == '__main__':\n",
    "    main()"
   ]
  },
  {
   "cell_type": "code",
   "execution_count": 6,
   "metadata": {},
   "outputs": [
    {
     "name": "stdout",
     "output_type": "stream",
     "text": [
      "Anton is 21\n",
      "Beth is 27\n",
      "Chen is 47\n",
      "Drew is 68\n",
      "Ethan is 47\n"
     ]
    }
   ],
   "source": [
    "def main():\n",
    "    anton : int = 21  # Anton's age is given as 21 years old\n",
    "    beth : int = 6 + anton  # Beth is 6 years older than Anton, so add 6 to Anton's age to get Beth's\n",
    "    chen : int = 20 + beth  # Chen is 20 years older than Beth, so add 20 to Beth's age to get Chen's\n",
    "    drew  : int= chen + anton  # Drew is as old as Chen's age plus Anton's age, so add them together\n",
    "    ethan : int = chen  # Ethan is the same age as Chen, so set Ethan's age equal to Chen's\n",
    "\n",
    "   # Print out all of the ages!\n",
    "    print(\"Anton is \" + str(anton))\n",
    "    print(\"Beth is \" + str(beth))\n",
    "    print(\"Chen is \" + str(chen))\n",
    "    print(\"Drew is \" + str(drew))\n",
    "    print(\"Ethan is \" + str(ethan))\n",
    "\n",
    "\n",
    "# There is no need to edit code beyond this point\n",
    "\n",
    "if __name__ == '__main__':\n",
    "    main()"
   ]
  },
  {
   "cell_type": "markdown",
   "metadata": {},
   "source": [
    "05_Triangle_Perimeter\n",
    "triangle.py\n",
    "\n",
    "Problem Statement\n",
    "\n",
    "Prompt the user to enter the lengths of each side of a triangle and then calculate and print the perimeter of the triangle (the sum of all of the side lengths).\n",
    "\n",
    "Here's a sample run of the program (user input is in bold italics):\n",
    "\n",
    "What is the length of side 1? 3\n",
    "\n",
    "What is the length of side 2? 4\n",
    "\n",
    "What is the length of side 3? 5.5\n",
    "\n",
    "The perimeter of the triangle is 12.5\n",
    "Starter Code\n",
    "\n",
    "def main():\n",
    "    print(\"Delete this line and write your code here! :)\")\n",
    "\n",
    "\n",
    "# This provided line is required at the end of\n",
    "# Python file to call the main() function.\n",
    "if __name__ == '__main__':\n",
    "    main()"
   ]
  },
  {
   "cell_type": "code",
   "execution_count": 7,
   "metadata": {},
   "outputs": [
    {
     "name": "stdout",
     "output_type": "stream",
     "text": [
      "The perimeter of the triangle is 38.0\n"
     ]
    }
   ],
   "source": [
    "def main():\n",
    "    # Get the 3 side lengths of the triangle\n",
    "    side1: float = float(input(\"What is the length of side 1? \"))\n",
    "    side2: float = float(input(\"What is the length of side 2? \"))\n",
    "    side3: float = float(input(\"What is the length of side 3? \"))\n",
    "\n",
    "    # Print out the perimeter (sum of the sides) of the triangle, make sure to cast it to a str when concatenating!\n",
    "    print(\"The perimeter of the triangle is \" + str(side1 + side2 + side3))\n",
    "\n",
    "\n",
    "# There is no need to edit code beyond this point\n",
    "\n",
    "if __name__ == '__main__':\n",
    "    main()"
   ]
  },
  {
   "cell_type": "markdown",
   "metadata": {},
   "source": [
    "06_Square_Number\n",
    "square.py\n",
    "\n",
    "Problem Statement\n",
    "\n",
    "Ask the user for a number and print its square (the product of the number times itself).\n",
    "\n",
    "Here's a sample run of the program (user input is in bold italics):\n",
    "\n",
    "Type a number to see its square: 4\n",
    "\n",
    "4.0 squared is 16.0\n",
    "Starter Code\n",
    "\n",
    "def main():\n",
    "    print(\"Delete this line and write your code here! :)\")\n",
    "\n",
    "\n",
    "# There is no need to edit code beyond this point\n",
    "\n",
    "if __name__ == '__main__':\n",
    "    main()"
   ]
  },
  {
   "cell_type": "code",
   "execution_count": 10,
   "metadata": {},
   "outputs": [
    {
     "name": "stdout",
     "output_type": "stream",
     "text": [
      "9.99 squared is 99.8001\n"
     ]
    }
   ],
   "source": [
    "\n",
    "def main():\n",
    "    num: float = float(input(\"Type a number to see its square: \")) # Make sure to cast the input to a float so we can do math with it!\n",
    "    print(str(num) + \" squared is \" + str(num ** 2)) # num * num is equivalent to num ** 2. The ** operator raises something to a power!\n",
    "\n",
    "\n",
    "# There is no need to edit code beyond this point\n",
    "\n",
    "if __name__ == '__main__':\n",
    "    main()\n"
   ]
  }
 ],
 "metadata": {
  "kernelspec": {
   "display_name": "Python 3",
   "language": "python",
   "name": "python3"
  },
  "language_info": {
   "codemirror_mode": {
    "name": "ipython",
    "version": 3
   },
   "file_extension": ".py",
   "mimetype": "text/x-python",
   "name": "python",
   "nbconvert_exporter": "python",
   "pygments_lexer": "ipython3",
   "version": "3.13.2"
  }
 },
 "nbformat": 4,
 "nbformat_minor": 2
}
