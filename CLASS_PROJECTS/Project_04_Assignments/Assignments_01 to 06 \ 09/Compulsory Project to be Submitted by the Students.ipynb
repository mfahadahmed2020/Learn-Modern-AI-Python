{
 "cells": [
  {
   "cell_type": "markdown",
   "metadata": {},
   "source": [
    "Compulsory Project to be Submitted by the Students\n",
    "\n",
    "AI-101 students will complete these project on their own and submit the projects in the following form:\n",
    "\n",
    "https://forms.gle/VPw9wnmt1j8e7bnb6\n",
    "\n",
    "Project Checking: Your Instructors will check your project on the due date in onsite class. The due date will be announced by the onsite class instructors. You will be removed from the class until you successfully complete your project and submit it.\n",
    "\n",
    "You are required to complete and submit the following projects:\n",
    "\n",
    "Project 1: Mad libs Python Project\n",
    "\n",
    "Project 2: Guess the Number Game Python Project (computer)\n",
    "\n",
    "Project 3: Guess the Number Game Python Project (user)\n",
    "\n",
    "Project 4: Rock, paper, scissors Python Project\n",
    "\n",
    "Project 5: Hangman Python Project\n",
    "\n",
    "Project 6: Countdown Timer Python Project\n",
    "\n",
    "Project 7: Password Generator Python Project\n",
    "\n",
    "Project 8: Create a Python Streamlit BMI Calculator Web App in Just 6 Minutes\n",
    "\n",
    "Project 9: Build a Python Website in 15 Minutes With Streamlit\n",
    "Google Colab\n",
    "\n",
    "Google Colab will be used by students to complete all assignments and projects\n",
    "\n",
    "https://colab.research.google.com/\n",
    "\n",
    "We will use the Colab code generation capabilities and also it's ability to explain code."
   ]
  }
 ],
 "metadata": {
  "kernelspec": {
   "display_name": "Python 3",
   "language": "python",
   "name": "python3"
  },
  "language_info": {
   "name": "python",
   "version": "3.13.2"
  }
 },
 "nbformat": 4,
 "nbformat_minor": 2
}
