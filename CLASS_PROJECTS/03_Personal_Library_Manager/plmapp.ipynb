{
 "cells": [
  {
   "cell_type": "markdown",
   "metadata": {},
   "source": [
    "Book Details: Each Book Should Have The Following Attributes:\n",
    "\n",
    "    Title (string)\n",
    "    Author (string)\n",
    "    Publication Year (integer)\n",
    "    Genre (string)"
   ]
  },
  {
   "cell_type": "code",
   "execution_count": 46,
   "metadata": {},
   "outputs": [
    {
     "name": "stdout",
     "output_type": "stream",
     "text": [
      "Novels Read Unread\n",
      "Colonel Faridi Series\n",
      "  Tarantula (1981)\n",
      "  Dog Race (1982)\n",
      "  Pressure Lock (1984)\n",
      "  Black Kallar (1986)\n",
      "  Diamond of Death (1987)\n",
      "  Shalmaq (1990)\n",
      "  Dark Club (1992)\n",
      "  Halka-e-Maut (1993)\n",
      "  Way to Action (1994)\n",
      "  Top Target (1997)\n",
      "Imran Series\n",
      "  Big Target (2019)\n",
      "  Master Mission (2018)\n",
      "  Special Force (2017)\n",
      "  Final Game (2017)\n",
      "  Scarm (2017)\n",
      "  Cyril (2017)\n",
      "  Dark Heart (2017)\n",
      "  Double Dodge (2016)\n",
      "  Spargon (2016)\n",
      "  Last of Black Thunder Headquarters (2028)\n"
     ]
    }
   ],
   "source": [
    "novels = {\n",
    "    \"Colonel Faridi Series\": {\n",
    "        \"Read\": [\n",
    "            {\"Title\": \"Tarantula\", \"Year\": 1981, \"First Author\": \"Ibne Safi\"},\n",
    "            {\"Title\": \"Dog Race\", \"Year\": 1982, \"First Author\": \"Ibne Safi\"},\n",
    "            {\"Title\": \"Pressure Lock\", \"Year\": 1984, \"First Author\": \"Ibne Safi\"},\n",
    "            {\"Title\": \"Black Kallar\", \"Year\": 1986, \"First Author\": \"Ibne Safi\"},\n",
    "            {\"Title\": \"Diamond of Death\", \"Year\": 1987, \"First Author\": \"Ibne Safi\"},\n",
    "            {\"Title\": \"Shalmaq\", \"Year\": 1990, \"First Author\": \"Ibne Safi\"},\n",
    "            {\"Title\": \"Dark Club\", \"Year\": 1992, \"First Author\": \"Ibne Safi\"},\n",
    "            {\"Title\": \"Halka-e-Maut\", \"Year\": 1993, \"First Author\": \"Ibne Safi\"},\n",
    "            {\"Title\": \"Way to Action\", \"Year\": 1994, \"First Author\": \"Ibne Safi\"},\n",
    "            {\"Title\": \"Top Target\", \"Year\": 1997, \"First Author\": \"Ibne Safi\"},\n",
    "        ],\n",
    "        \"Unread\": [],\n",
    "    },\n",
    "    \"Imran Series\": {\n",
    "        \"Read\": [],\n",
    "        \"Unread\": [\n",
    "            {\"Title\": \"Big Target\", \"Year\": 2019, \"Second Author\": \"Mazhar Kaleem M.A\"},\n",
    "            {\"Title\": \"Master Mission\", \"Year\": 2018, \"Second Author\": \"Mazhar Kaleem M.A\",},\n",
    "            {\"Title\": \"Special Force\", \"Year\": 2017, \"Second Author\": \"Mazhar Kaleem M.A\",},\n",
    "            {\"Title\": \"Final Game\", \"Year\": 2017, \"Second Author\": \"Mazhar Kaleem M.A\"},\n",
    "            {\"Title\": \"Scarm\", \"Year\": 2017, \"Second Author\": \"Mazhar Kaleem M.A\"},\n",
    "            {\"Title\": \"Cyril\", \"Year\": 2017, \"Second Author\": \"Mazhar Kaleem M.A\"},\n",
    "            {\"Title\": \"Dark Heart\", \"Year\": 2017, \"Second Author\": \"Mazhar Kaleem M.A\"},\n",
    "            {\"Title\": \"Double Dodge\", \"Year\": 2016, \"Second Author\": \"Mazhar Kaleem M.A\",},\n",
    "            {\"Title\": \"Spargon\", \"Year\": 2016, \"Second Author\": \"Mazhar Kaleem M.A\"},\n",
    "            {\"Title\": \"Last of Black Thunder Headquarters\", \"Year\": 2028, \"Second Author\": \"Mazhar Kaleem M.A\",},\n",
    "        ],\n",
    "    },\n",
    "}\n",
    "print(\"Novels\",\"Read\",\"Unread\")\n",
    "for series, status in novels.items():\n",
    "    print(series)\n",
    "    for read in status[\"Read\"]:\n",
    "        print(f\"  {read['Title']} ({read['Year']})\")\n",
    "    for unread in status[\"Unread\"]:\n",
    "        print(f\"  {unread['Title']} ({unread['Year']})\")"
   ]
  },
  {
   "cell_type": "code",
   "execution_count": 47,
   "metadata": {},
   "outputs": [
    {
     "name": "stdout",
     "output_type": "stream",
     "text": [
      "\n",
      "Novels by Ibne Safi:\n",
      "  Tarantula (1981)\n",
      "  Dog Race (1982)\n",
      "  Pressure Lock (1984)\n",
      "  Black Kallar (1986)\n",
      "  Diamond of Death (1987)\n",
      "  Shalmaq (1990)\n",
      "  Dark Club (1992)\n",
      "  Halka-e-Maut (1993)\n",
      "  Way to Action (1994)\n",
      "  Top Target (1997)\n",
      "\n",
      "Novels by Mazhar Kaleem M.A:\n",
      "  Big Target (2019)\n",
      "  Master Mission (2018)\n",
      "  Special Force (2017)\n",
      "  Final Game (2017)\n",
      "  Scarm (2017)\n",
      "  Cyril (2017)\n",
      "  Dark Heart (2017)\n",
      "  Double Dodge (2016)\n",
      "  Spargon (2016)\n",
      "  Last of Black Thunder Headquarters (2028)\n",
      "\n",
      "All Novels:\n"
     ]
    }
   ],
   "source": [
    "author = \"Ibne Safi\"\n",
    "novel_series = novels[\"Colonel Faridi Series\"]\n",
    "read_novels = novel_series[\"Read\"]\n",
    "print(f\"\\nNovels by {author}:\")\n",
    "for novel in read_novels:\n",
    "    print(f\"  {novel['Title']} ({novel['Year']})\")\n",
    "print(\"\\nNovels by Mazhar Kaleem M.A:\")\n",
    "for series, status in novels.items():\n",
    "    if series == \"Imran Series\":\n",
    "        for novel in status[\"Unread\"]:\n",
    "            print(f\"  {novel['Title']} ({novel['Year']})\")\n",
    "print(\"\\nAll Novels:\")"
   ]
  },
  {
   "cell_type": "markdown",
   "metadata": {},
   "source": [
    "# Read Status (boolean: True if read, False if unread)\n",
    "# Read = True\n",
    "# Unread = False"
   ]
  },
  {
   "cell_type": "code",
   "execution_count": 48,
   "metadata": {},
   "outputs": [
    {
     "name": "stdout",
     "output_type": "stream",
     "text": [
      "Read books:\n",
      "  Tarantula (1981)\n",
      "  Dog Race (1982)\n",
      "  Pressure Lock (1984)\n",
      "  Black Kallar (1986)\n",
      "  Diamond of Death (1987)\n",
      "  Shalmaq (1990)\n",
      "  Dark Club (1992)\n",
      "  Halka-e-Maut (1993)\n",
      "  Way to Action (1994)\n",
      "  Top Target (1997)\n"
     ]
    }
   ],
   "source": [
    "read = True\n",
    "unread = False\n",
    "if read:\n",
    "    print(\"Read books:\")\n",
    "    for series, status in novels.items():\n",
    "        for read in status[\"Read\"]:\n",
    "            print(f\"  {read['Title']} ({read['Year']})\")\n",
    "else:\n",
    "    print(\"Unread books:\")\n",
    "    for series, status in novels.items():\n",
    "        for unread in status[\"Unread\"]:\n",
    "            print(f\"  {unread['Title']} ({unread['Year']})\")\n",
    "            print(\"Read Books:\")\n",
    "        print(\"True\")"
   ]
  },
  {
   "cell_type": "code",
   "execution_count": 49,
   "metadata": {},
   "outputs": [
    {
     "name": "stdout",
     "output_type": "stream",
     "text": [
      "Unread books:\n",
      "False\n"
     ]
    }
   ],
   "source": [
    "unread = False\n",
    "print(\"Unread books:\")\n",
    "print(\"False\")"
   ]
  },
  {
   "cell_type": "markdown",
   "metadata": {},
   "source": [
    "Menu System: Implement a menu with the following options:\n",
    "\n",
    "    Add a book\n",
    "    Remove a book\n",
    "    Search for a book\n",
    "    Display all books\n",
    "    Display statistics (total books, percentage read)"
   ]
  },
  {
   "cell_type": "code",
   "execution_count": 50,
   "metadata": {},
   "outputs": [
    {
     "name": "stdout",
     "output_type": "stream",
     "text": [
      "Add book:\n",
      "True\n",
      "Remove book:\n",
      "False\n",
      "Search book:\n",
      "True\n",
      "Display Books:\n",
      "True\n",
      "Total Books:\n",
      "20\n",
      "Percentage of read books:\n",
      "100%\n"
     ]
    }
   ],
   "source": [
    "print(\"Add book:\")\n",
    "print(\"True\")\n",
    "print(\"Remove book:\")\n",
    "print(\"False\")\n",
    "print(\"Search book:\")\n",
    "print(\"True\")\n",
    "print(\"Display Books:\")\n",
    "print(\"True\")\n",
    "print(\"Total Books:\")\n",
    "print(20)\n",
    "print(\"Percentage of read books:\")\n",
    "print(\"100%\")"
   ]
  },
  {
   "cell_type": "markdown",
   "metadata": {},
   "source": [
    "\n",
    "\n",
    "Add a Book: Prompt the user to enter the book's details and add it to the library.\n",
    "\n",
    "Remove a Book: Prompt the user to enter the title of the book to remove it from the library.\n",
    "\n",
    "Search for a Book: Allow the user to search for a book by title or author. Display all matching books.\n",
    "\n",
    "Display All Books: Show all books in the library in a formatted way.\n",
    "\n",
    "Display Statistics:"
   ]
  },
  {
   "cell_type": "code",
   "execution_count": 9,
   "metadata": {},
   "outputs": [
    {
     "name": "stdout",
     "output_type": "stream",
     "text": [
      "Added book: Dog Rays\n",
      "Updated Read books in Colonel Faridi Series:\n",
      "  Tarantula (1981)\n",
      "  Dog Race (1982)\n",
      "  Pressure Lock (1984)\n",
      "  Black Kallar (1986)\n",
      "  Diamond of Death (1987)\n",
      "  Shalmaq (1990)\n",
      "  Dark Club (1992)\n",
      "  Halka-e-Maut (1993)\n",
      "  Way to Action (1994)\n",
      "  Top Target (1997)\n",
      "  Dog Rays (1983)\n",
      "Removed book: Last of Black Thunder Headquarters\n",
      "Updated Unread books in Imran Series:\n",
      "  Big Target (2019)\n",
      "  Master Mission (2018)\n",
      "  Special Force (2017)\n",
      "  Final Game (2017)\n",
      "  Scarm (2017)\n",
      "  Cyril (2017)\n",
      "  Dark Heart (2017)\n",
      "  Double Dodge (2016)\n",
      "  Spargon (2016)\n",
      "Searching for book: Big Target\n"
     ]
    }
   ],
   "source": [
    "novels = {\n",
    "    \"Colonel Faridi Series\": {\n",
    "        \"Read\": [\n",
    "            {\"Title\": \"Tarantula\", \"Year\": 1981, \"First Author\": \"Ibne Safi\"},\n",
    "            {\"Title\": \"Dog Race\", \"Year\": 1982, \"First Author\": \"Ibne Safi\"},\n",
    "            {\"Title\": \"Pressure Lock\", \"Year\": 1984, \"First Author\": \"Ibne Safi\"},\n",
    "            {\"Title\": \"Black Kallar\", \"Year\": 1986, \"First Author\": \"Ibne Safi\"},\n",
    "            {\"Title\": \"Diamond of Death\", \"Year\": 1987, \"First Author\": \"Ibne Safi\"},\n",
    "            {\"Title\": \"Shalmaq\", \"Year\": 1990, \"First Author\": \"Ibne Safi\"},\n",
    "            {\"Title\": \"Dark Club\", \"Year\": 1992, \"First Author\": \"Ibne Safi\"},\n",
    "            {\"Title\": \"Halka-e-Maut\", \"Year\": 1993, \"First Author\": \"Ibne Safi\"},\n",
    "            {\"Title\": \"Way to Action\", \"Year\": 1994, \"First Author\": \"Ibne Safi\"},\n",
    "            {\"Title\": \"Top Target\", \"Year\": 1997, \"First Author\": \"Ibne Safi\"},\n",
    "        ],\n",
    "        \"Unread\": [],\n",
    "    },\n",
    "    \"Imran Series\": {\n",
    "        \"Read\": [],\n",
    "        \"Unread\": [\n",
    "            {\"Title\": \"Big Target\", \"Year\": 2019, \"Second Author\": \"Mazhar Kaleem M.A\"},\n",
    "            {\"Title\": \"Master Mission\", \"Year\": 2018, \"Second Author\": \"Mazhar Kaleem M.A\",},\n",
    "            {\"Title\": \"Special Force\", \"Year\": 2017, \"Second Author\": \"Mazhar Kaleem M.A\",},\n",
    "            {\"Title\": \"Final Game\", \"Year\": 2017, \"Second Author\": \"Mazhar Kaleem M.A\"},\n",
    "            {\"Title\": \"Scarm\", \"Year\": 2017, \"Second Author\": \"Mazhar Kaleem M.A\"},\n",
    "            {\"Title\": \"Cyril\", \"Year\": 2017, \"Second Author\": \"Mazhar Kaleem M.A\"},\n",
    "            {\"Title\": \"Dark Heart\", \"Year\": 2017, \"Second Author\": \"Mazhar Kaleem M.A\"},\n",
    "            {\"Title\": \"Double Dodge\", \"Year\": 2016, \"Second Author\": \"Mazhar Kaleem M.A\",},\n",
    "            {\"Title\": \"Spargon\", \"Year\": 2016, \"Second Author\": \"Mazhar Kaleem M.A\"},\n",
    "            {\"Title\": \"Last of Black Thunder Headquarters\", \"Year\": 2028, \"Second Author\": \"Mazhar Kaleem M.A\",},\n",
    "        ],\n",
    "    },\n",
    "}\n",
    "add_novels = {\"Title\": \"Dog Rays\", \"Year\": 1983, \"First Author\": \"Ibne Safi\"}\n",
    "novels[\"Colonel Faridi Series\"][\"Read\"].append(add_novels)\n",
    "print(\"Added book:\", add_novels[\"Title\"])\n",
    "print(\"Updated Read books in Colonel Faridi Series:\")\n",
    "for book in novels[\"Colonel Faridi Series\"][\"Read\"]:\n",
    "    print(f\"  {book['Title']} ({book['Year']})\")\n",
    "\n",
    "remove_novels = {\"Title\": \"Last of Black Thunder Headquarters\", \"Year\": 2028, \"Second Author\": \"Mazhar Kaleem M.A\",}\n",
    "novels[\"Imran Series\"][\"Unread\"].remove(remove_novels)\n",
    "print(\"Removed book:\", remove_novels[\"Title\"])\n",
    "print(\"Updated Unread books in Imran Series:\")\n",
    "for book in novels[\"Imran Series\"][\"Unread\"]:\n",
    "    print(f\"  {book['Title']} ({book['Year']})\")\n",
    "search_novels = {\"Title\": \"Big Target\", \"Year\": 2019, \"Second Author\": \"Mazhar Kaleem M.A\"}\n",
    "print(\"Searching for book:\", search_novels[\"Title\"])\n",
    "found = False\n",
    "for series, status in novels.items():\n",
    "    for book in status[\"Unread\"]:\n",
    "        if book[\"Title\"] == search_novels[\"Title\"] and book[\"Year\"] == search_novels[\"Year\"]:\n",
    "            found = True\n",
    "            break      \n",
    "\n",
    "\n"
   ]
  },
  {
   "cell_type": "code",
   "execution_count": null,
   "metadata": {},
   "outputs": [
    {
     "name": "stdout",
     "output_type": "stream",
     "text": [
      "Displaying books:\n",
      "  Black Kallar\n",
      "  Dog Race\n",
      "  Master Mission\n",
      "  Dark Club\n",
      "  Halka-e-Maut\n",
      "  Scarm\n",
      "  Diamond of Death\n",
      "  Dark Heart\n",
      "  Cyril\n",
      "   Way to Action\n",
      "  Top Target\n",
      "  Final Game\n",
      "  Pressure Lock\n",
      "  Special Force\n",
      "   Dog Rays\n",
      "  Shalmaq\n",
      "  Tarantula\n",
      "  Big Target\n"
     ]
    }
   ],
   "source": [
    "display_novel = {\"Tarantula\",\"Dog Race\",\"Pressure Lock\",\"Black Kallar\",\"Diamond of Death\",\"Shalmaq\",\n",
    "                 \"Dark Club\",\"Halka-e-Maut\",\" Way to Action\",\"Top Target\",\" Dog Rays\",\"Big Target\",\n",
    "                 \"Master Mission\",\"Special Force\",\"Final Game\",\"Scarm\",\"Cyril\",\"Dark Heart\",}\n",
    "print(\"Displaying books:\")\n",
    "for book in display_novel:\n",
    "    print(f\"  {book}\")\n"
   ]
  },
  {
   "cell_type": "code",
   "execution_count": 27,
   "metadata": {},
   "outputs": [
    {
     "name": "stdout",
     "output_type": "stream",
     "text": [
      "Total books: 20\n",
      "Percentage of read books: 50.0 %\n",
      "Percentage of unread books: 50.0 %\n"
     ]
    }
   ],
   "source": [
    "display_statistics= 20\n",
    "read_novels = 10\n",
    "unread_novels = 10\n",
    "percentage_read = (read_novels / display_statistics) * 100\n",
    "print(\"Total books:\", display_statistics)\n",
    "print(\"Percentage of read books:\", percentage_read, \"%\")\n",
    "print(\"Percentage of unread books:\", 100 - percentage_read, \"%\")\n"
   ]
  },
  {
   "cell_type": "code",
   "execution_count": null,
   "metadata": {},
   "outputs": [
    {
     "name": "stdout",
     "output_type": "stream",
     "text": [
      "Exiting program...\n"
     ]
    }
   ],
   "source": [
    "exit_status = 0\n",
    "if exit_status == 0:\n",
    "    print(\"Exiting program...\")"
   ]
  }
 ],
 "metadata": {
  "kernelspec": {
   "display_name": "Python 3",
   "language": "python",
   "name": "python3"
  },
  "language_info": {
   "codemirror_mode": {
    "name": "ipython",
    "version": 3
   },
   "file_extension": ".py",
   "mimetype": "text/x-python",
   "name": "python",
   "nbconvert_exporter": "python",
   "pygments_lexer": "ipython3",
   "version": "3.13.2"
  }
 },
 "nbformat": 4,
 "nbformat_minor": 2
}
